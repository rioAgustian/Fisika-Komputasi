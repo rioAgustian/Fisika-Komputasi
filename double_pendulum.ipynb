{
  "nbformat": 4,
  "nbformat_minor": 0,
  "metadata": {
    "colab": {
      "name": "double pendulum.ipynb",
      "provenance": [],
      "authorship_tag": "ABX9TyNPBmNLZOmaKPKw56lFnHrF",
      "include_colab_link": true
    },
    "kernelspec": {
      "name": "python3",
      "display_name": "Python 3"
    },
    "language_info": {
      "name": "python"
    }
  },
  "cells": [
    {
      "cell_type": "markdown",
      "metadata": {
        "id": "view-in-github",
        "colab_type": "text"
      },
      "source": [
        "<a href=\"https://colab.research.google.com/github/rioAgustian/Fisika-Komputasi/blob/main/double_pendulum.ipynb\" target=\"_parent\"><img src=\"https://colab.research.google.com/assets/colab-badge.svg\" alt=\"Open In Colab\"/></a>"
      ]
    },
    {
      "cell_type": "code",
      "execution_count": 34,
      "metadata": {
        "id": "DVgX0jDic02S"
      },
      "outputs": [],
      "source": [
        "import numpy as np\n",
        "import sympy as sp\n",
        "import matplotlib.pyplot as plt\n",
        "from matplotlib.animation import FFMpegWriter\n",
        "from matplotlib.patches import Circle\n",
        "from matplotlib import animation\n",
        "from scipy.integrate import odeint\n",
        "from mpl_toolkits.mplot3d import Axes3D"
      ]
    },
    {
      "cell_type": "code",
      "source": [
        "# simbol yang digunakan untuk komputasi simbolik\n",
        "t, g, m1, m2, L1, L2 = sp.symbols(\"t g m1 m2 L1 L2\")"
      ],
      "metadata": {
        "id": "S4IkFOHdgM7q"
      },
      "execution_count": 35,
      "outputs": []
    },
    {
      "cell_type": "code",
      "source": [
        "# theta adalah fungsi waktu\n",
        "the1, the2 = sp.symbols(r\"\\theta_1 \\theta_2\", cls=sp.Function)\n",
        "the1 = the1(t)\n",
        "the2 = the2(t)"
      ],
      "metadata": {
        "id": "vqA5DeP8gxGt"
      },
      "execution_count": 36,
      "outputs": []
    },
    {
      "cell_type": "code",
      "source": [
        "# mencari turunan pertama dan kedua dari theta terhadap t\n",
        "the1_d  = sp.diff(the1, t)\n",
        "the2_d  = sp.diff(the2, t)\n",
        "the1_dd = sp.diff(the1_d, t)\n",
        "the2_dd = sp.diff(the2_d, t)"
      ],
      "metadata": {
        "id": "bjgJWTbAhC6f"
      },
      "execution_count": 37,
      "outputs": []
    },
    {
      "cell_type": "code",
      "source": [
        "# hubungan koordinat kartesian dengan theta dan L\n",
        "x1 =  L1*sp.sin(the1)\n",
        "y1 = -L1*sp.cos(the1)\n",
        "x2 =  L1*sp.sin(the1) + L2*sp.sin(the2)\n",
        "y2 = -L1*sp.cos(the1) - L2*sp.cos(the2)"
      ],
      "metadata": {
        "id": "OB7RnEtthZZ6"
      },
      "execution_count": 38,
      "outputs": []
    },
    {
      "cell_type": "code",
      "source": [
        "# energi kinetik\n",
        "T1 = 1/2 * m1 * (sp.diff(x1, t)**2 + sp.diff(y1, t)**2)\n",
        "T2 = 1/2 * m2 * (sp.diff(x2, t)**2 + sp.diff(y2, t)**2)\n",
        "T  = T1 + T2\n",
        "\n",
        "# energi potensial\n",
        "V1 = m1 * g * y1\n",
        "V2 = m2 * g * y2\n",
        "V  = V1 + V2\n",
        "\n",
        "# sistem Lagrange\n",
        "L = T - V "
      ],
      "metadata": {
        "id": "fLLYG7UliBeT"
      },
      "execution_count": 39,
      "outputs": []
    },
    {
      "cell_type": "markdown",
      "source": [
        "## Tentang persamaan gerak\n",
        "\n",
        "Persamaan gerak double pendulum di sini dicari dengan menggunakan mekanika Lagrange. \n",
        "\n",
        "Jika $T$ adalah energi kinetik dan $V$ adalah energi potensial dan $L = T - V$, \n",
        "\n",
        "\n",
        "maka persamaan gerak dapat dicari dengan menyelesaiakan persamaan diferensial berikut.\n",
        "\n",
        "\\begin{align}\n",
        "\\frac{∂L}{\\partial \\theta_1} - \\frac{\\partial L}{\\partial t}\\left(\\frac{\\partial L}{\\partial \\dot{\\theta_1} } \\right) = 0 \\\\\n",
        "\\frac{∂L}{\\partial \\theta_2} - \\frac{\\partial L}{\\partial t}\\left(\\frac{\\partial L}{\\partial \\dot{\\theta_2} } \\right) = 0\n",
        "\\end{align}"
      ],
      "metadata": {
        "id": "YWeasgy9Aq1y"
      }
    },
    {
      "cell_type": "code",
      "source": [
        "# untuk theta 1\n",
        "LE1 = sp.diff(L, the1) - sp.diff(sp.diff(L, the1_d), t).simplify()\n",
        "\n",
        "# untuk theta 2\n",
        "LE2 = sp.diff(L, the2) - sp.diff(sp.diff(L, the2_d), t).simplify()"
      ],
      "metadata": {
        "id": "53qWYWV1i33c"
      },
      "execution_count": 40,
      "outputs": []
    },
    {
      "cell_type": "code",
      "source": [
        "# menyelesaikan d^2(theta)/dt^2\n",
        "solusi = sp.solve([LE1, LE2], (the1_dd, the2_dd),\n",
        "                  simplify=False, rational=False)"
      ],
      "metadata": {
        "id": "P-AkOXewjQkw"
      },
      "execution_count": 41,
      "outputs": []
    },
    {
      "cell_type": "code",
      "source": [
        "# dw/dt atau d^2(theta)/dt^2\n",
        "dw1dt_f = sp.lambdify((t,g,m1,m2,L1,L2,the1,the2,the1_d,the2_d), solusi[the1_dd])\n",
        "dw2dt_f = sp.lambdify((t,g,m1,m2,L1,L2,the1,the2,the1_d,the2_d), solusi[the2_dd])\n",
        "\n",
        "# d(theta)/dt\n",
        "dthe1dt_f = sp.lambdify(the1_d, the1_d)\n",
        "dthe2dt_f = sp.lambdify(the2_d, the2_d)"
      ],
      "metadata": {
        "id": "_sbB8VCaj7Bx"
      },
      "execution_count": 42,
      "outputs": []
    },
    {
      "cell_type": "code",
      "source": [
        "# fungsi untuk feed odeint\n",
        "def dSdt(S, t, g, m1, m2, L1, L2):\n",
        "  the1, w1, the2, w2 = S\n",
        "  return [dthe1dt_f(w1),\n",
        "          dw1dt_f(t,g,m1,m2,L1,L2,the1,the2, w1, w2),\n",
        "          dthe2dt_f(w2),\n",
        "          dw2dt_f(t,g,m1,m2,L1,L2,the1,the2, w1, w2)]"
      ],
      "metadata": {
        "id": "-XZWqJ5-uw_G"
      },
      "execution_count": 43,
      "outputs": []
    },
    {
      "cell_type": "code",
      "source": [
        "# pewaktuan\n",
        "t = np.linspace(0, 40, 1001)\n",
        "\n",
        "# argumen\n",
        "g  = 9.81\n",
        "m1 = 2\n",
        "m2 = 1\n",
        "L1 = 2\n",
        "L2 = 1\n",
        "\n",
        "# initial condition\n",
        "the1 =  1\n",
        "the2 = -1\n",
        "w1 = -3\n",
        "w2 =  5\n",
        "\n",
        "# merapikan argumen dan parameter\n",
        "args = (g, m1, m2, L1, L2)\n",
        "S0   = [the1, w1, the2, w2]"
      ],
      "metadata": {
        "id": "zyENzOFRvjww"
      },
      "execution_count": 44,
      "outputs": []
    },
    {
      "cell_type": "code",
      "source": [
        "# menggunakan scipy.integrate.odeint\n",
        "sol = odeint(dSdt, y0=S0, t=t, args=args)\n",
        "the1 = sol.T[0]\n",
        "the2 = sol.T[2]"
      ],
      "metadata": {
        "id": "MJo99EBcwDdm"
      },
      "execution_count": 45,
      "outputs": []
    },
    {
      "cell_type": "code",
      "source": [
        "# mengubah koordinat polar ke kartesian\n",
        "def xy(t, the1, the2, L1, L2):\n",
        "  return [ L1*np.sin(the1),\n",
        "          -L1*np.cos(the1),\n",
        "           L1*np.sin(the1) + L2*np.sin(the2),\n",
        "          -L1*np.cos(the1) - L2*np.cos(the2)]\n",
        "\n",
        "# koordinat massa 1 dan 2\n",
        "x1, y1, x2, y2 = xy(t, sol.T[0], sol.T[2], L1, L2)"
      ],
      "metadata": {
        "id": "WlW-TdInwWmO"
      },
      "execution_count": 46,
      "outputs": []
    },
    {
      "cell_type": "code",
      "source": [
        "# membuat animasi\n",
        "dt = 0.01\n",
        "r = 0.05\n",
        "trail_secs = 1\n",
        "max_trail = int(trail_secs / dt)\n",
        "\n",
        "def animate(i):\n",
        "    plt.cla()\n",
        "    plt.grid()\n",
        "    ax.set_ylim(-3, 3)\n",
        "    ax.set_xlim(-3, 3)\n",
        "    ax.plot([0, x1[i], x2[i]], # ini massa 1\n",
        "            [0, y1[i], y2[i]], # ini massa 2\n",
        "            lw=2, c='k')\n",
        "    c0 = Circle((0, 0), r/2, fc='k', zorder=10)\n",
        "    c1 = Circle((x1[i], y1[i]), r, fc='b', ec='b', zorder=10)\n",
        "    c2 = Circle((x2[i], y2[i]), r, fc='r', ec='r', zorder=10)\n",
        "    ax.add_patch(c0)\n",
        "    ax.add_patch(c1)\n",
        "    ax.add_patch(c2)\n",
        "\n",
        "    ns = 20\n",
        "    s = max_trail // ns\n",
        "\n",
        "    for j in range(ns):\n",
        "        imin = i - (ns-j)*s\n",
        "        if imin < 0:\n",
        "            continue\n",
        "        imax = imin + s + 1\n",
        "        alpha = (j/ns)**2\n",
        "        ax.plot(x2[imin:imax], y2[imin:imax], c='g', solid_capstyle='butt',\n",
        "                lw=2, alpha=alpha)\n",
        "\n",
        "fig = plt.figure(figsize=(4, 4), dpi=300)\n",
        "ax = fig.add_subplot(111)\n",
        "ani = animation.FuncAnimation(fig, animate, frames=1000, interval=50)\n",
        "\n",
        "# uncomment untuk melihat keluaran\n",
        "# ani.save(\"pen.mp4\", writer=\"ffmpeg\", fps=25)"
      ],
      "metadata": {
        "colab": {
          "base_uri": "https://localhost:8080/",
          "height": 952
        },
        "id": "oWmidr6z1Q9b",
        "outputId": "ac7d48b1-93f6-46c9-8d85-c3ac2bbda69c"
      },
      "execution_count": 47,
      "outputs": [
        {
          "output_type": "display_data",
          "data": {
            "text/plain": [
              "<Figure size 1200x1200 with 1 Axes>"
            ],
            "image/png": "[encoded data removed]"
          },
          "metadata": {
            "needs_background": "light"
          }
        }
      ]
    }
  ]
}