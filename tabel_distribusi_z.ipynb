{
  "nbformat": 4,
  "nbformat_minor": 0,
  "metadata": {
    "colab": {
      "name": "tabel_distribusi_z.ipynb",
      "provenance": []
    },
    "kernelspec": {
      "name": "python3",
      "display_name": "Python 3"
    },
    "language_info": {
      "name": "python"
    }
  },
  "cells": [
    {
      "cell_type": "markdown",
      "source": [
        "# **Tabel Distribusi Z**\n",
        "\n",
        "**Rio Agustian Gilang Fernando, Fisika**\n",
        "\n",
        "**Fakultas Matematika dan Ilmu Pengetahuan Alam**\n",
        "\n",
        "**Universitas Negeri Semarang**\n",
        "\n"
      ],
      "metadata": {
        "id": "4_kSPrt4R-xz"
      }
    },
    {
      "cell_type": "markdown",
      "source": [
        "Kode ini memberikan keluaran berupa tabel distribusi z. Nilai yang tertera adalah hasil integral numerik *probability density function (PDF)* sebagai fungsi z."
      ],
      "metadata": {
        "id": "ijTfyT1jSN66"
      }
    },
    {
      "cell_type": "code",
      "execution_count": 78,
      "metadata": {
        "colab": {
          "base_uri": "https://localhost:8080/"
        },
        "id": "b7wWZDKEJyfg",
        "outputId": "ad9faff3-12c5-4e69-d6b1-eddbdfe4768f"
      },
      "outputs": [
        {
          "output_type": "stream",
          "name": "stdout",
          "text": [
            "<---Tabel Distribusi Z--->\n",
            "\n",
            " z \t0.00 \t 0.01\t  0.02\t   0.03 \t0.04\t0.05 \t 0.06 \t 0.07 \t 0.08 \t 0.09\n",
            "0.0\t0.50000  0.50399  0.50798  0.51197  0.51595  0.51994  0.52392  0.52790  0.53188  0.53586  \n",
            "0.1\t0.53983  0.54380  0.54776  0.55172  0.55567  0.55962  0.56356  0.56749  0.57142  0.57535  \n",
            "0.2\t0.57926  0.58317  0.58706  0.59095  0.59483  0.59871  0.60257  0.60642  0.61026  0.61409  \n",
            "0.3\t0.61791  0.62172  0.62552  0.62930  0.63307  0.63683  0.64058  0.64431  0.64803  0.65173  \n",
            "0.4\t0.65542  0.65910  0.66276  0.66640  0.67003  0.67364  0.67724  0.68082  0.68439  0.68793  \n",
            "0.5\t0.69146  0.69497  0.69847  0.70194  0.70540  0.70884  0.71226  0.71566  0.71904  0.72240  \n",
            "0.6\t0.72575  0.72907  0.73237  0.73565  0.73891  0.74215  0.74537  0.74857  0.75175  0.75490  \n",
            "0.7\t0.75804  0.76115  0.76424  0.76730  0.77035  0.77337  0.77637  0.77935  0.78230  0.78524  \n",
            "0.8\t0.78814  0.79103  0.79389  0.79673  0.79955  0.80234  0.80511  0.80785  0.81057  0.81327  \n",
            "0.9\t0.81594  0.81859  0.82121  0.82381  0.82639  0.82894  0.83147  0.83398  0.83646  0.83891  \n",
            "1.0\t0.84134  0.84375  0.84614  0.84849  0.85083  0.85314  0.85543  0.85769  0.85993  0.86214  \n",
            "1.1\t0.86433  0.86650  0.86864  0.87076  0.87286  0.87493  0.87698  0.87900  0.88100  0.88298  \n",
            "1.2\t0.88493  0.88686  0.88877  0.89065  0.89251  0.89435  0.89617  0.89796  0.89973  0.90147  \n",
            "1.3\t0.90320  0.90490  0.90658  0.90824  0.90988  0.91149  0.91309  0.91466  0.91621  0.91774  \n",
            "1.4\t0.91924  0.92073  0.92220  0.92364  0.92507  0.92647  0.92785  0.92922  0.93056  0.93189  \n",
            "1.5\t0.93319  0.93448  0.93574  0.93699  0.93822  0.93943  0.94062  0.94179  0.94295  0.94408  \n",
            "1.6\t0.94520  0.94630  0.94738  0.94845  0.94950  0.95053  0.95154  0.95254  0.95352  0.95449  \n",
            "1.7\t0.95543  0.95637  0.95728  0.95818  0.95907  0.95994  0.96080  0.96164  0.96246  0.96327  \n",
            "1.8\t0.96407  0.96485  0.96562  0.96638  0.96712  0.96784  0.96856  0.96926  0.96995  0.97062  \n",
            "1.9\t0.97128  0.97193  0.97257  0.97320  0.97381  0.97441  0.97500  0.97558  0.97615  0.97670  \n",
            "2.0\t0.97725  0.97778  0.97831  0.97882  0.97932  0.97982  0.98030  0.98077  0.98124  0.98169  \n"
          ]
        }
      ],
      "source": [
        "from numpy import arange, exp, inf, sqrt, pi\n",
        "from scipy.integrate import quad\n",
        "import matplotlib.pyplot as plt\n",
        "\n",
        "# masukan : z\n",
        "# keluaran: integral PDF dari negatif tak hingga sampai z \n",
        "def dstb_z(z):\n",
        "  f = lambda x: 1/sqrt(2*pi) * exp(-1/2 * x**2)\n",
        "  dens = quad(f, -inf, z)[0]\n",
        "  dens = \"{0:.5f}\".format(dens) # 5 -> digit desimal\n",
        "  return dens\n",
        "\n",
        "mulai = 0.0 # nilai dapat diubah sesuai keperluan\n",
        "henti = 2.1 # nilai dapat diubah sesuai keperluan\n",
        "\n",
        "print(\"<---Tabel Distribusi Z--->\\n\")\n",
        "print(\" z \\t0.00 \\t 0.01\\t  0.02\\t   0.03 \\t0.04\\t0.05 \\t 0.06 \\t 0.07 \\t 0.08 \\t 0.09\")\n",
        "\n",
        "for i in arange(mulai, henti, 0.1):\n",
        "  print(round(i, 1), end=\"\\t\")\n",
        "  for j in range(0, 10):\n",
        "    x = dstb_z(i + 0.01*j)\n",
        "    print(x, end=\"  \")\n",
        "  print(\"\")"
      ]
    }
  ]
}