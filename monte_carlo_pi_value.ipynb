{
  "nbformat": 4,
  "nbformat_minor": 0,
  "metadata": {
    "colab": {
      "name": "monte_carlo_pi_value.ipynb",
      "provenance": []
    },
    "kernelspec": {
      "name": "python3",
      "display_name": "Python 3"
    },
    "language_info": {
      "name": "python"
    }
  },
  "cells": [
    {
      "cell_type": "markdown",
      "source": [
        "# **Simulasi Monte Carlo untuk Mengestimasi Nilai $\\pi$**\n",
        "\n",
        "**Rio Agustian Gilang Fernando, Fisika**\n",
        "\n",
        "**Fakultas Matematika dan Ilmu Pengetahuan Alam**\n",
        "\n",
        "**Universitas Negeri Semarang**"
      ],
      "metadata": {
        "id": "FYV2aq0dDhJ7"
      }
    },
    {
      "cell_type": "markdown",
      "source": [
        "**1. Menetukan Luasan Lingkaran dengan Loop**"
      ],
      "metadata": {
        "id": "r1gosjbTEKoN"
      }
    },
    {
      "cell_type": "code",
      "execution_count": 5,
      "metadata": {
        "colab": {
          "base_uri": "https://localhost:8080/",
          "height": 265
        },
        "id": "n4SVPukm-wPS",
        "outputId": "7a99486e-ae7d-4a8a-92e6-d6fd65064ee6"
      },
      "outputs": [
        {
          "output_type": "display_data",
          "data": {
            "text/plain": [
              "<Figure size 432x288 with 1 Axes>"
            ],
            "image/png": "[encoded data removed]"
          },
          "metadata": {
            "needs_background": "light"
          }
        }
      ],
      "source": [
        "import numpy as np\n",
        "import matplotlib.pyplot as plt\n",
        "\n",
        "dn = 0.01                # banyak titik yang digunakan = (1/dn)^2\n",
        "x = np.arange(0,1,dn)\n",
        "y = x\n",
        "num = 0                  # banyak titik yang memenuhi syarat\n",
        "den = 0\n",
        "vval = []\n",
        "\n",
        "for i in x:\n",
        "  for j in y:\n",
        "    den += 1\n",
        "    if i**2 + j**2 < 1:\n",
        "      num += 1\n",
        "      val = num/den * 4\n",
        "      vval.append(val)\n",
        "    \n",
        "plt.plot(vval, label=\"$\\pi$ estimation\")\n",
        "plt.hlines(np.pi, 0, len(vval), label=\"$\\pi$ value\")\n",
        "plt.legend()\n",
        "plt.grid()\n",
        "plt.show()"
      ]
    },
    {
      "cell_type": "markdown",
      "source": [
        "**2. Menentukan Luasan Lingkaran dengan Simulasi Monte Carlo**"
      ],
      "metadata": {
        "id": "d97AaRe_ERjj"
      }
    },
    {
      "cell_type": "code",
      "source": [
        "import numpy as np\n",
        "import matplotlib.pyplot as plt\n",
        "\n",
        "n = 1000   # banyak titik yang digunakan\n",
        "num = 0    # banyak titik yang memenuhi syarat\n",
        "vval = []\n",
        "\n",
        "for i in range(n):\n",
        "  x = np.random.uniform(-1, 1)\n",
        "  y = np.random.uniform(-1, 1)\n",
        "  if x**2 + y**2 < 1:\n",
        "    num += 1\n",
        "    den = i\n",
        "    if i == 0:\n",
        "      val = 0\n",
        "    else:\n",
        "      val = num/den * 4\n",
        "    vval.append(val)\n",
        "    \n",
        "plt.plot(vval, label=\"$\\pi$ estimation\")\n",
        "plt.hlines(np.pi, 0, len(vval), label=\"$\\pi$ value\")\n",
        "plt.legend()\n",
        "plt.grid()\n",
        "plt.show()"
      ],
      "metadata": {
        "colab": {
          "base_uri": "https://localhost:8080/",
          "height": 265
        },
        "id": "AGqtwOBWAQvN",
        "outputId": "5ddabd3b-132a-4eba-a6cf-45ce74abb088"
      },
      "execution_count": 6,
      "outputs": [
        {
          "output_type": "display_data",
          "data": {
            "text/plain": [
              "<Figure size 432x288 with 1 Axes>"
            ],
            "image/png": "[encoded data removed]"
          },
          "metadata": {
            "needs_background": "light"
          }
        }
      ]
    },
    {
      "cell_type": "markdown",
      "source": [
        "**3. Kesimpulan**\n",
        "\n",
        "Metode Monte Carlo menghampiri nilai $\\pi$ lebih cepat daripada metode loop dengan banyak titik tinjauan yang sama. "
      ],
      "metadata": {
        "id": "OjhroxTsEdP-"
      }
    }
  ]
}