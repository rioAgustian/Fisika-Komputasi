{
  "nbformat": 4,
  "nbformat_minor": 0,
  "metadata": {
    "colab": {
      "name": "kriteria_chauvenet.ipynb",
      "provenance": [],
      "collapsed_sections": []
    },
    "kernelspec": {
      "name": "python3",
      "display_name": "Python 3"
    },
    "language_info": {
      "name": "python"
    }
  },
  "cells": [
    {
      "cell_type": "markdown",
      "source": [
        "# **Penolakan Data Berdasarkan Kriteria Chauvenet**\n",
        "\n",
        "**Rio Agustian Gilang Fernando, Fisika**\n",
        "\n",
        "**Fakultas Matematika dan Ilmu Pengetahuan Alam**\n",
        "\n",
        "**Universitas Negeri Semarang**\n"
      ],
      "metadata": {
        "id": "x_GjPKd7ppjQ"
      }
    },
    {
      "cell_type": "markdown",
      "source": [
        "## **Kriteria Chauvenet**\n",
        "\n",
        "Kriteria Chauvenet menyatakan bahawa data akan ditolak, jika\n",
        "\n",
        "\\begin{align}\n",
        "P(\\mu < z \\, \\text{dan} \\, \\mu > z) < \\frac{1}{2k} \\\\\n",
        "\\end{align}\n",
        "atau\n",
        "\\begin{align}\n",
        "P(\\mu > \\mu_0) < \\frac{1}{4k}\n",
        "\\end{align}\n",
        "\n",
        "dengan\n",
        "\n",
        "> k = banyak data\n",
        "\n",
        "> $z = \\frac{x_i - \\bar{x}}{\\sigma}$"
      ],
      "metadata": {
        "id": "qAaq5qd9qMiO"
      }
    },
    {
      "cell_type": "code",
      "source": [
        "from numpy import array, exp, inf, sqrt, pi\n",
        "from scipy.integrate import quad\n",
        "import matplotlib.pyplot as plt"
      ],
      "metadata": {
        "id": "E-xOfyEbRhQT"
      },
      "execution_count": 90,
      "outputs": []
    },
    {
      "cell_type": "markdown",
      "source": [
        "## **Distribusi Z**\n",
        "Distribusi normal sebagai fungsi z didefinisikan sebagai berikut.\n",
        "\n",
        "\\begin{align}\n",
        "f(z)=  \\frac{1}{\\sqrt{2\\pi}} e^{-\\frac{1}{2}z^2}\\\n",
        "\\end{align}\n",
        "\n",
        "Nilai yang tertera pada tabel distribusi z adalah hasil integral fungsi $f(z).$"
      ],
      "metadata": {
        "id": "KwRYUj49W-H2"
      }
    },
    {
      "cell_type": "code",
      "source": [
        "def dstb_z(z, des=4):\n",
        "  \"\"\"\n",
        "  Menghitung luas di bawah kurva distribusi Gauss dari negatif tak hingga \n",
        "  sampai dengan titik z.\n",
        "\n",
        "  Parameters\n",
        "  ----------\n",
        "  z : (x - mu) / sigma\n",
        "  des : banyak digit di belakang koma yang diinginkan. Default-nya adalah 4 \n",
        "  \"\"\"\n",
        "  f = lambda x: 1/sqrt(2*pi) * exp(-1/2 * x**2)\n",
        "  dens = quad(f, -inf, z)[0]\n",
        "  return round(dens, des)"
      ],
      "metadata": {
        "id": "usaH31F4SVJa"
      },
      "execution_count": 91,
      "outputs": []
    },
    {
      "cell_type": "markdown",
      "source": [
        "## **Uji Validitas Data dengan Kriteria Chauvenet**"
      ],
      "metadata": {
        "id": "oQYnxYK2srk9"
      }
    },
    {
      "cell_type": "code",
      "source": [
        "def chauv(x):\n",
        "  \"\"\"\n",
        "  Menguji validitas data dengan menggunakan kriteria Chauvenet.\n",
        "\n",
        "  Parameters\n",
        "  ----------\n",
        "  x : numpy array berisi data yang ingin diuji validitasnya\n",
        "  \"\"\"\n",
        "  n = len(x)\n",
        "  xbar = x.mean()\n",
        "  std = x.std()\n",
        "  k = len(x)\n",
        "\n",
        "  for i in range(k):\n",
        "    z = (x[i] - xbar) / std\n",
        "    prob = dstb_z(z)\n",
        "    limit = 1/(4*k) \n",
        "\n",
        "    if prob < limit:\n",
        "      print(\"{0:d}. Data {1:.2f} ditolak\".format(i+1, data[i]))\n",
        "    else:\n",
        "      print(\"{0:d}. Data {1:.2f} diterima\".format(i+1, data[i]))"
      ],
      "metadata": {
        "id": "357D-YuhXy4w"
      },
      "execution_count": 92,
      "outputs": []
    },
    {
      "cell_type": "markdown",
      "source": [
        "## **Contoh Persoalan**"
      ],
      "metadata": {
        "id": "t1YSO2VNtDZk"
      }
    },
    {
      "cell_type": "code",
      "source": [
        "data = array([3.8, 3.5, 3.9, 3.4, 3.9, 1.8])\n",
        "chauv(data)"
      ],
      "metadata": {
        "colab": {
          "base_uri": "https://localhost:8080/"
        },
        "id": "jJHNza9HtCpX",
        "outputId": "cf8d4be0-2481-4265-b198-c59dc5819d81"
      },
      "execution_count": 93,
      "outputs": [
        {
          "output_type": "stream",
          "name": "stdout",
          "text": [
            "1. Data 3.80 diterima\n",
            "2. Data 3.50 diterima\n",
            "3. Data 3.90 diterima\n",
            "4. Data 3.40 diterima\n",
            "5. Data 3.90 diterima\n",
            "6. Data 1.80 ditolak\n"
          ]
        }
      ]
    }
  ]
}